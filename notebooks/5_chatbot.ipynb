{
 "cells": [
  {
   "metadata": {
    "collapsed": true,
    "ExecuteTime": {
     "end_time": "2025-07-16T15:50:07.274009Z",
     "start_time": "2025-07-16T15:49:14.711508Z"
    }
   },
   "cell_type": "code",
   "source": [
    "from typing import TypedDict, Annotated\n",
    "from dotenv import load_dotenv\n",
    "from langchain.chat_models import init_chat_model\n",
    "from langgraph.graph import StateGraph, START, END, add_messages\n",
    "\n",
    "\n",
    "class State(TypedDict) :\n",
    "    messages: Annotated[list, add_messages]\n",
    "\n",
    "load_dotenv()\n",
    "\n",
    "llm = init_chat_model(\"google_genai:gemini-2.0-flash\")\n",
    "\n",
    "def chatbot(state: State) -> State :\n",
    "    return {\"messages\": [llm.invoke(state[\"messages\"])]}\n",
    "\n",
    "builder = StateGraph(State)\n",
    "\n",
    "builder.add_node(\"chatbot_node\", chatbot)\n",
    "\n",
    "builder.add_edge(START, \"chatbot_node\")\n",
    "builder.add_edge(\"chatbot_node\", END)\n",
    "\n",
    "# call builder to build graph\n",
    "graph = builder.compile()\n",
    "\n",
    "state = None\n",
    "\n",
    "while True:\n",
    "    in_message = input(\"You:  \")\n",
    "    if in_message.lower() in [\"exit\", \"quit\"]:\n",
    "        break\n",
    "    if state is None:\n",
    "        state: State = {\n",
    "            \"messages\": [{\"role\": \"user\", \"content\": in_message}],\n",
    "        }\n",
    "    else:\n",
    "        state[\"messages\"].append({\"role\": \"user\", \"content\": in_message})\n",
    "\n",
    "    state = graph.invoke(state)\n",
    "    print(state)\n",
    "    print(\"Bot: \", state[\"messages\"][-1].content)\n",
    "\n",
    "\n"
   ],
   "id": "initial_id",
   "outputs": [
    {
     "name": "stdout",
     "output_type": "stream",
     "text": [
      "{'messages': [HumanMessage(content='What is the latest price of MFST Stock', additional_kwargs={}, response_metadata={}, id='7276e3ea-23e7-4a71-aa53-79fbe55ea86b'), AIMessage(content='Unfortunately, I cannot provide you with real-time stock prices. The price of MSFT (Microsoft) stock fluctuates throughout the day.\\n\\nTo get the latest, up-to-the-minute price, I recommend checking these resources:\\n\\n*   **Google Finance:** Search \"MSFT stock\" on Google.\\n*   **Yahoo Finance:** finance.yahoo.com\\n*   **Your Brokerage Account:** If you have a brokerage account (e.g., Fidelity, Schwab, Robinhood), the most accurate price will be available there.\\n\\nThese sources will give you the most current information.', additional_kwargs={}, response_metadata={'prompt_feedback': {'block_reason': 0, 'safety_ratings': []}, 'finish_reason': 'STOP', 'model_name': 'gemini-2.0-flash', 'safety_ratings': []}, id='run--ed66fa46-2a34-477e-bed5-7594dc80e405-0', usage_metadata={'input_tokens': 9, 'output_tokens': 125, 'total_tokens': 134, 'input_token_details': {'cache_read': 0}})]}\n",
      "Bot:  Unfortunately, I cannot provide you with real-time stock prices. The price of MSFT (Microsoft) stock fluctuates throughout the day.\n",
      "\n",
      "To get the latest, up-to-the-minute price, I recommend checking these resources:\n",
      "\n",
      "*   **Google Finance:** Search \"MSFT stock\" on Google.\n",
      "*   **Yahoo Finance:** finance.yahoo.com\n",
      "*   **Your Brokerage Account:** If you have a brokerage account (e.g., Fidelity, Schwab, Robinhood), the most accurate price will be available there.\n",
      "\n",
      "These sources will give you the most current information.\n"
     ]
    }
   ],
   "execution_count": 5
  },
  {
   "metadata": {
    "ExecuteTime": {
     "end_time": "2025-07-16T09:56:29.370439Z",
     "start_time": "2025-07-16T09:56:29.367355Z"
    }
   },
   "cell_type": "code",
   "source": "",
   "id": "cc60591b72d7b3d2",
   "outputs": [],
   "execution_count": null
  }
 ],
 "metadata": {
  "kernelspec": {
   "display_name": "Python 3",
   "language": "python",
   "name": "python3"
  },
  "language_info": {
   "codemirror_mode": {
    "name": "ipython",
    "version": 2
   },
   "file_extension": ".py",
   "mimetype": "text/x-python",
   "name": "python",
   "nbconvert_exporter": "python",
   "pygments_lexer": "ipython2",
   "version": "2.7.6"
  }
 },
 "nbformat": 4,
 "nbformat_minor": 5
}

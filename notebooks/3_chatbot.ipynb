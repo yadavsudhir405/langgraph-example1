{
 "cells": [
  {
   "metadata": {
    "ExecuteTime": {
     "end_time": "2025-07-16T07:11:00.080413Z",
     "start_time": "2025-07-16T07:10:59.443172Z"
    }
   },
   "cell_type": "code",
   "source": [
    "from langgraph.constants import START, END\n",
    "from typing import TypedDict\n",
    "from dotenv import load_dotenv\n",
    "from langchain.chat_models import init_chat_model\n",
    "from langgraph.graph import StateGraph\n",
    "\n",
    "load_dotenv()\n",
    "\n",
    "llm = init_chat_model(\"google_genai:gemini-2.0-flash\");\n",
    "# llm.invoke(\"Who is the current prime minister of india?\")\n",
    "\n",
    "class State(TypedDict):\n",
    "    messages: list\n",
    "\n",
    "def chatbot(state: State) -> State:\n",
    "    return {\"messages\": [llm.invoke(state[\"messages\"])]}\n",
    "\n",
    "builder = StateGraph(State)\n",
    "builder.add_node(\"chatbot_node\", chatbot)\n",
    "\n",
    "builder.add_edge(START, \"chatbot_node\")\n",
    "builder.add_edge(\"chatbot_node\", END)\n",
    "\n",
    "graph = builder.compile()\n",
    "\n",
    "message = {\"role\": \"user\", \"content\": \"Who walked on the moon for the first time? Print only the name\"}\n",
    "response = graph.invoke({\"messages\": [message]})\n",
    "#\n",
    "print(response[\"messages\"])\n",
    "\n",
    "\n"
   ],
   "id": "74557b2a23e93a57",
   "outputs": [
    {
     "name": "stdout",
     "output_type": "stream",
     "text": [
      "[AIMessage(content='Neil Armstrong', additional_kwargs={}, response_metadata={'prompt_feedback': {'block_reason': 0, 'safety_ratings': []}, 'finish_reason': 'STOP', 'model_name': 'gemini-2.0-flash', 'safety_ratings': []}, id='run--51be853a-5801-40aa-9da6-39ecb4353c88-0', usage_metadata={'input_tokens': 14, 'output_tokens': 3, 'total_tokens': 17, 'input_token_details': {'cache_read': 0}})]\n"
     ]
    }
   ],
   "execution_count": 5
  },
  {
   "metadata": {},
   "cell_type": "code",
   "outputs": [],
   "execution_count": null,
   "source": "",
   "id": "f6032c3ffc436e13"
  }
 ],
 "metadata": {
  "kernelspec": {
   "display_name": "Python 3",
   "language": "python",
   "name": "python3"
  },
  "language_info": {
   "codemirror_mode": {
    "name": "ipython",
    "version": 2
   },
   "file_extension": ".py",
   "mimetype": "text/x-python",
   "name": "python",
   "nbconvert_exporter": "python",
   "pygments_lexer": "ipython2",
   "version": "2.7.6"
  }
 },
 "nbformat": 4,
 "nbformat_minor": 5
}

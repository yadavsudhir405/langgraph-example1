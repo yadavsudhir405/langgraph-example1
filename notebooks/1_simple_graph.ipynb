{
 "cells": [
  {
   "cell_type": "code",
   "id": "initial_id",
   "metadata": {
    "collapsed": true,
    "ExecuteTime": {
     "end_time": "2025-06-30T12:17:41.306093Z",
     "start_time": "2025-06-30T12:17:41.299411Z"
    }
   },
   "source": [
    "from typing import TypedDict\n",
    "\n",
    "class PortfolioState(TypedDict):\n",
    "    amount_usd: float\n",
    "    total_usd: float\n",
    "    total_inr: float\n"
   ],
   "outputs": [],
   "execution_count": 8
  },
  {
   "metadata": {
    "ExecuteTime": {
     "end_time": "2025-06-30T12:17:41.315548Z",
     "start_time": "2025-06-30T12:17:41.313223Z"
    }
   },
   "cell_type": "code",
   "source": [
    "def calculate_portfolio_value(state: PortfolioState) -> float:\n",
    "    state[\"total_usd\"]  = state[\"amount_usd\"] * 40\n",
    "    return state;\n",
    "\n",
    "def calculate_portfolio_inr(state: PortfolioState) -> float:\n",
    "    state['total_inr'] = state['total_usd'] * 85\n",
    "    return state;\n",
    "\n"
   ],
   "id": "c3ef288fbf14b7e6",
   "outputs": [],
   "execution_count": 9
  },
  {
   "metadata": {
    "ExecuteTime": {
     "end_time": "2025-06-30T12:17:41.332205Z",
     "start_time": "2025-06-30T12:17:41.328641Z"
    }
   },
   "cell_type": "code",
   "source": [
    "from langgraph.graph import StateGraph, START, END\n",
    "\n",
    "builder = StateGraph(PortfolioState)\n",
    "\n",
    "builder.add_node(\"calculate_portfolio_value\", calculate_portfolio_value)\n",
    "builder.add_node(\"calculate_portfolio_inr\", calculate_portfolio_inr)\n",
    "\n",
    "builder.add_edge(START, \"calculate_portfolio_value\")\n",
    "builder.add_edge(\"calculate_portfolio_value\", \"calculate_portfolio_inr\")\n",
    "builder.add_edge(\"calculate_portfolio_inr\", END)"
   ],
   "id": "fdcc2b03855a92c",
   "outputs": [
    {
     "data": {
      "text/plain": [
       "<langgraph.graph.state.StateGraph at 0x123c2ee40>"
      ]
     },
     "execution_count": 10,
     "metadata": {},
     "output_type": "execute_result"
    }
   ],
   "execution_count": 10
  },
  {
   "metadata": {
    "ExecuteTime": {
     "end_time": "2025-06-30T12:17:41.960522Z",
     "start_time": "2025-06-30T12:17:41.376455Z"
    }
   },
   "cell_type": "code",
   "source": [
    "graph = builder.compile()\n",
    "\n",
    "from IPython.display import Image, display\n",
    "\n",
    "display(Image(graph.get_graph().draw_mermaid_png()))\n",
    "\n",
    "graph.invoke({\"amount_usd\": 1000})"
   ],
   "id": "4a90765f1f93e08e",
   "outputs": [
    {
     "data": {
      "image/png": "[encoded data removed]",
      "text/plain": [
       "<IPython.core.display.Image object>"
      ]
     },
     "metadata": {},
     "output_type": "display_data"
    },
    {
     "data": {
      "text/plain": [
       "{'amount_usd': 1000, 'total_usd': 40000, 'total_inr': 3400000}"
      ]
     },
     "execution_count": 11,
     "metadata": {},
     "output_type": "execute_result"
    }
   ],
   "execution_count": 11
  }
 ],
 "metadata": {
  "kernelspec": {
   "display_name": "Python 3",
   "language": "python",
   "name": "python3"
  },
  "language_info": {
   "codemirror_mode": {
    "name": "ipython",
    "version": 2
   },
   "file_extension": ".py",
   "mimetype": "text/x-python",
   "name": "python",
   "nbconvert_exporter": "python",
   "pygments_lexer": "ipython2",
   "version": "2.7.6"
  }
 },
 "nbformat": 4,
 "nbformat_minor": 5
}

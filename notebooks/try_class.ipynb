{
 "cells": [
  {
   "metadata": {
    "collapsed": true,
    "ExecuteTime": {
     "end_time": "2025-06-30T12:12:01.583299Z",
     "start_time": "2025-06-30T12:12:01.577879Z"
    }
   },
   "cell_type": "code",
   "source": [
    "class Person:\n",
    "    class_name = \"Person\"\n",
    "\n",
    "    def __init__(self, name, age): # constructor, self is this reference, it must be first argument\n",
    "        self.name = name\n",
    "        self.age = age\n",
    "\n",
    "    def say_hello(self):\n",
    "        print(\"Hello, my name is\", self.name)\n",
    "\n",
    "    def get_age(self):\n",
    "        return self.age\n",
    "\n",
    "\n",
    "\n",
    "newPerson = Person(\"Foo\", 23)\n",
    "newPerson.say_hello()\n",
    "print(newPerson.get_age())\n",
    "print(Person.class_name)"
   ],
   "id": "initial_id",
   "outputs": [
    {
     "name": "stdout",
     "output_type": "stream",
     "text": [
      "Hello, my name is Foo\n",
      "23\n",
      "Person\n"
     ]
    }
   ],
   "execution_count": 17
  },
  {
   "metadata": {
    "ExecuteTime": {
     "end_time": "2025-06-30T12:13:51.148822Z",
     "start_time": "2025-06-30T12:13:51.140853Z"
    }
   },
   "cell_type": "code",
   "source": [
    "from typing import TypedDict\n",
    "class Employee(TypedDict):\n",
    "    name: str\n",
    "    age: int\n",
    "    salary: float\n",
    "\n",
    "\n",
    "newEmployee: Employee = {\n",
    "    \"name\": \"John\",\n",
    "    \"age\": 30,\n",
    "    \"salary\": 3000.0\n",
    "}\n",
    "\n",
    "newPerson.pri\n"
   ],
   "id": "931aa02352b9334",
   "outputs": [],
   "execution_count": 19
  },
  {
   "metadata": {},
   "cell_type": "code",
   "outputs": [],
   "execution_count": null,
   "source": "",
   "id": "ad86fc35fddb3890"
  }
 ],
 "metadata": {
  "kernelspec": {
   "display_name": "Python 3",
   "language": "python",
   "name": "python3"
  },
  "language_info": {
   "codemirror_mode": {
    "name": "ipython",
    "version": 2
   },
   "file_extension": ".py",
   "mimetype": "text/x-python",
   "name": "python",
   "nbconvert_exporter": "python",
   "pygments_lexer": "ipython2",
   "version": "2.7.6"
  }
 },
 "nbformat": 4,
 "nbformat_minor": 5
}
